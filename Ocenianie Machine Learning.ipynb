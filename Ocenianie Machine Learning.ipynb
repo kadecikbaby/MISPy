{
 "cells": [
  {
   "cell_type": "code",
   "execution_count": 1,
   "metadata": {},
   "outputs": [],
   "source": [
    "# Importowanie bibliotek\n",
    "import numpy as np \n",
    "import pandas as pd \n",
    "import seaborn as sns\n",
    "%matplotlib inline\n",
    "from matplotlib import pyplot as plt\n",
    "from matplotlib import style\n",
    "from sklearn import linear_model\n",
    "from sklearn.linear_model import LogisticRegression\n",
    "from sklearn.ensemble import RandomForestClassifier\n",
    "from sklearn.linear_model import Perceptron\n",
    "from sklearn.linear_model import SGDClassifier\n",
    "from sklearn.tree import DecisionTreeClassifier\n",
    "from sklearn.neighbors import KNeighborsClassifier\n",
    "from sklearn.svm import SVC, LinearSVC\n",
    "from sklearn.naive_bayes import GaussianNB\n",
    "from sklearn.linear_model import LinearRegression"
   ]
  },
  {
   "cell_type": "code",
   "execution_count": 2,
   "metadata": {},
   "outputs": [],
   "source": [
    "#pobieranie danych z excela\n",
    "train = pd.read_excel (\"oceny.xlsx\")\n",
    "test = pd.read_excel (\"test_oceniania.xlsx\")"
   ]
  },
  {
   "cell_type": "code",
   "execution_count": 3,
   "metadata": {},
   "outputs": [],
   "source": [
    "#przygotowanie danych do uczenia\n",
    "xcos=pd.DataFrame(train).to_numpy()\n",
    "wynik_procentowy=xcos[:,0].reshape(-1, 1)\n",
    "ocena=xcos[:,1]\n",
    "xcos1=pd.DataFrame(train).to_numpy()\n",
    "wyniki_testowe=xcos1[:,0].reshape(-1, 1)"
   ]
  },
  {
   "cell_type": "code",
   "execution_count": 4,
   "metadata": {},
   "outputs": [],
   "source": [
    "model = LinearRegression().fit(wynik_procentowy, ocena) #tworzenie modelu za pomocą regresji liniowej"
   ]
  },
  {
   "cell_type": "code",
   "execution_count": 5,
   "metadata": {},
   "outputs": [
    {
     "data": {
      "image/png": "[encoded data removed]",
      "text/plain": [
       "<Figure size 432x288 with 1 Axes>"
      ]
     },
     "metadata": {
      "needs_background": "light"
     },
     "output_type": "display_data"
    }
   ],
   "source": [
    "ocena_przewid = np.around(model.predict(wyniki_testowe), decimals=1) # testowanie modelu\n",
    "ocena_przewidywana=ocena_przewid.reshape(-1,1)\n",
    "#for k in range(50):\n",
    "#    if (ocena_przewidywana[k,0]<3):\n",
    "#        ocena_przewidywana[k,0]=2\n",
    "#przedstawienie wyników na wykresie         \n",
    "plt.scatter(wynik_procentowy,ocena, color=\"blue\")\n",
    "plt.scatter(wyniki_testowe,ocena_przewid, color=\"red\")\n",
    "plt.axis([0, 100, 1, 6])\n",
    "plt.show()"
   ]
  },
  {
   "cell_type": "code",
   "execution_count": 7,
   "metadata": {},
   "outputs": [
    {
     "name": "stdout",
     "output_type": "stream",
     "text": [
      "26.0   2.0\n",
      "82.0   4.1\n",
      "66.0   3.6\n",
      "28.0   2.0\n",
      "51.0   3.1\n",
      "64.0   3.5\n",
      "50.0   3.0\n",
      "16.0   2.0\n",
      "3.0   2.0\n",
      "52.0   3.1\n",
      "75.0   3.9\n",
      "93.0   4.5\n",
      "20.0   2.0\n",
      "70.0   3.7\n",
      "3.0   2.0\n",
      "79.0   4.0\n",
      "57.0   3.3\n",
      "87.0   4.3\n",
      "80.0   4.1\n",
      "42.0   2.0\n",
      "63.0   3.5\n",
      "81.0   4.1\n",
      "47.0   2.0\n",
      "62.0   3.4\n",
      "68.0   3.7\n",
      "79.0   4.0\n",
      "66.0   3.6\n",
      "71.0   3.8\n",
      "26.0   2.0\n",
      "61.0   3.4\n",
      "85.0   4.2\n",
      "64.0   3.5\n",
      "69.0   3.7\n",
      "85.0   4.2\n",
      "1.0   2.0\n",
      "18.0   2.0\n",
      "6.0   2.0\n",
      "72.0   3.8\n",
      "33.0   2.0\n",
      "79.0   4.0\n",
      "11.0   2.0\n",
      "52.0   3.1\n",
      "44.0   2.0\n",
      "45.0   2.0\n",
      "24.0   2.0\n",
      "91.0   4.4\n",
      "62.0   3.4\n",
      "19.0   2.0\n",
      "79.0   4.0\n",
      "17.0   2.0\n"
     ]
    }
   ],
   "source": [
    "for k in range(50): #wyświetlenie wyniku\n",
    "    print(wyniki_testowe[k,0], \" \" ,ocena_przewidywana[k,0])\n"
   ]
  }
 ],
 "metadata": {
  "kernelspec": {
   "display_name": "Python 3",
   "language": "python",
   "name": "python3"
  },
  "language_info": {
   "codemirror_mode": {
    "name": "ipython",
    "version": 3
   },
   "file_extension": ".py",
   "mimetype": "text/x-python",
   "name": "python",
   "nbconvert_exporter": "python",
   "pygments_lexer": "ipython3",
   "version": "3.7.4"
  }
 },
 "nbformat": 4,
 "nbformat_minor": 2
}
