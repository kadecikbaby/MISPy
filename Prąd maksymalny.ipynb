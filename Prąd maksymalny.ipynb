{
 "cells": [
  {
   "cell_type": "code",
   "execution_count": 1,
   "metadata": {},
   "outputs": [],
   "source": [
    "from pulp import * #importowanie biblioteki potrzebnej przy programowaniu liniowym\n",
    "prad_max = pulp.LpProblem(\"prad_max\", pulp.LpMaximize)#deklaracja problemu i kierunku optymalizacji\n",
    "#deklaracja zmiennych decyzyjnych\n",
    "I_1 = pulp.LpVariable('I_1', lowBound=0, cat='Continuous')\n",
    "I_2 = pulp.LpVariable('I_2', lowBound=0, cat='Continuous')\n",
    "I_3 = pulp.LpVariable('I_3', lowBound=0, cat='Continuous')\n",
    "I_4 = pulp.LpVariable('I_4', lowBound=0, cat='Continuous')\n",
    "I_5 = pulp.LpVariable('I_5', lowBound=0, cat='Continuous')"
   ]
  },
  {
   "cell_type": "code",
   "execution_count": 2,
   "metadata": {},
   "outputs": [],
   "source": [
    "# funkcja celu ,szukamy maksimum\n",
    "prad_max += I_1 + I_2\n",
    "\n",
    "# ograniczenia na prądy wynikające z elementów i praw Kirchhoffa\n",
    "\n",
    "prad_max += I_1 <=2, \"I1\"\n",
    "prad_max += I_2 <=3, \"I2\"\n",
    "prad_max += I_3 <=4, \"I3\"\n",
    "prad_max += I_4 <=2, \"I4\"\n",
    "prad_max += I_5 <=2, \"I5\"\n",
    "prad_max += I_1 * 8 == I_2 * 6, \"K1\"\n",
    "prad_max += I_4 * 10 == I_5 * 8,\"K2\"\n",
    "prad_max += I_1+I_2 == I_3, \"KK1\"\n",
    "prad_max += I_4+I_5 == I_3, \"KK2\""
   ]
  },
  {
   "cell_type": "code",
   "execution_count": 3,
   "metadata": {
    "scrolled": true
   },
   "outputs": [
    {
     "name": "stdout",
     "output_type": "stream",
     "text": [
      "Status =  Optimal\n"
     ]
    }
   ],
   "source": [
    "prad_max.solve() #uruchomienie solvera rozwiązującego problem\n",
    "print(\"Status = \",LpStatus[prad_max.status])# sprawdzenie wyniku optymalizacji"
   ]
  },
  {
   "cell_type": "code",
   "execution_count": 4,
   "metadata": {},
   "outputs": [
    {
     "name": "stdout",
     "output_type": "stream",
     "text": [
      "I_1 = 1.5428571\n",
      "I_2 = 2.0571429\n",
      "I_3 = 3.6\n",
      "I_4 = 1.6\n",
      "I_5 = 2.0\n"
     ]
    }
   ],
   "source": [
    "for variable in prad_max.variables(): #wypisanie poszczególnych prądów\n",
    "    print(\"{} = {}\".format(variable.name, variable.varValue))"
   ]
  },
  {
   "cell_type": "code",
   "execution_count": 5,
   "metadata": {},
   "outputs": [
    {
     "name": "stdout",
     "output_type": "stream",
     "text": [
      "3.6\n"
     ]
    }
   ],
   "source": [
    "##Prad maksymalny\n",
    "print(pulp.value(prad_max.objective))"
   ]
  }
 ],
 "metadata": {
  "kernelspec": {
   "display_name": "Python 3",
   "language": "python",
   "name": "python3"
  },
  "language_info": {
   "codemirror_mode": {
    "name": "ipython",
    "version": 3
   },
   "file_extension": ".py",
   "mimetype": "text/x-python",
   "name": "python",
   "nbconvert_exporter": "python",
   "pygments_lexer": "ipython3",
   "version": "3.7.4"
  }
 },
 "nbformat": 4,
 "nbformat_minor": 2
}
