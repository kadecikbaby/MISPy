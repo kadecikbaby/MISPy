{
 "cells": [
  {
   "cell_type": "code",
   "execution_count": 1,
   "metadata": {},
   "outputs": [],
   "source": [
    "from pulp import * #importowanie bibliotek\n",
    "import pandas as pd #importowanie bibliotek"
   ]
  },
  {
   "cell_type": "code",
   "execution_count": 2,
   "metadata": {},
   "outputs": [],
   "source": [
    "prob = LpProblem(\"Najmniejsze koszty\",LpMinimize)#deklaracja problemu i kierunku optymalizacji\n",
    "\n",
    "#Godziny każdego w poniedziałek\n",
    "pIg=LpVariable(\"pIg\",0) #IGOR\n",
    "pMg=LpVariable(\"pMg\",0) #MAREK\n",
    "pFg=LpVariable(\"pFg\",0) #FRANEK\n",
    "pPg=LpVariable(\"pPg\",0) #PIOTREK\n",
    "pAg=LpVariable(\"pAg\",0) #AGNIESZKA\n",
    "pZg=LpVariable(\"pZg\",0) #ZENON\n",
    "#Godziny każdego we wtorek\n",
    "wIg=LpVariable(\"wIg\",0) \n",
    "wMg=LpVariable(\"wMg\",0) \n",
    "wFg=LpVariable(\"wFg\",0) \n",
    "wPg=LpVariable(\"wPg\",0) \n",
    "wAg=LpVariable(\"wAg\",0) \n",
    "wZg=LpVariable(\"wZg\",0) \n",
    "#Godziny każdego w środe\n",
    "srIg=LpVariable(\"srIg\",0) \n",
    "srMg=LpVariable(\"srMg\",0) \n",
    "srFg=LpVariable(\"srFg\",0) \n",
    "srPg=LpVariable(\"srPg\",0) \n",
    "srAg=LpVariable(\"srAg\",0) \n",
    "srZg=LpVariable(\"srZg\",0) \n",
    "#Godziny każdego w czwartek\n",
    "cIg=LpVariable(\"cIg\",0) \n",
    "cMg=LpVariable(\"cMg\",0) \n",
    "cFg=LpVariable(\"cFg\",0) \n",
    "cPg=LpVariable(\"cPg\",0) \n",
    "cAg=LpVariable(\"cAg\",0) \n",
    "cZg=LpVariable(\"cZg\",0) \n",
    "#Godziny każdego w piątek\n",
    "ptIg=LpVariable(\"ptIg\",0) \n",
    "ptMg=LpVariable(\"ptMg\",0) \n",
    "ptFg=LpVariable(\"ptFg\",0) \n",
    "ptPg=LpVariable(\"ptPg\",0) \n",
    "ptAg=LpVariable(\"ptAg\",0) \n",
    "ptZg=LpVariable(\"ptZg\",0) \n",
    "#Godziny każdego w sobote\n",
    "sIg=LpVariable(\"sIg\",0) \n",
    "sMg=LpVariable(\"sMg\",0) \n",
    "sFg=LpVariable(\"sFg\",0) \n",
    "sPg=LpVariable(\"sPg\",0) \n",
    "sAg=LpVariable(\"sAg\",0) \n",
    "sZg=LpVariable(\"sZg\",0) \n"
   ]
  },
  {
   "cell_type": "code",
   "execution_count": 3,
   "metadata": {},
   "outputs": [],
   "source": [
    "#suma godzin w tygodniu poszczególnych osób\n",
    "Ig=pIg+wIg+srIg+cIg+ptIg+sIg\n",
    "Mg=pMg+wMg+srMg+cMg+ptMg+sMg\n",
    "Fg=pFg+wFg+srFg+cFg+ptFg+sFg             \n",
    "Ag=pAg+wAg+srAg+cAg+ptAg+sAg\n",
    "Zg=pZg+wZg+srZg+cZg+ptZg+sZg             \n",
    "Pg=pPg+wPg+srPg+cPg+ptPg+sPg             \n",
    "\n",
    "prob += 170*Ig+60*Mg+80*Fg+200*Pg+90*Ag+10*Zg #funkcja celu\n",
    "#ograniczenia wynikające z dostępności pracowników\n",
    "prob += pIg + wIg + srIg + cIg + ptIg + sIg <= 4\n",
    "prob += pMg+wMg+srMg+cMg+ptMg+sMg<=4\n",
    "prob += pFg+wFg+srFg+cFg+ptFg+sFg<=3\n",
    "prob += pPg+wPg+srPg+cPg+ptPg+sPg<=8\n",
    "prob += pAg+wAg+srAg+cAg+ptAg+sAg<=10\n",
    "prob += pZg+wZg+srZg+cZg+ptZg+sZg<=5\n",
    "#ograniczenia wynikające z godzin otwarcia\n",
    "prob += pIg+pMg+pFg+pPg+pAg+pZg ==8\n",
    "prob += wIg+wMg+wFg+wPg+wAg+wZg==4\n",
    "prob += srIg+srMg+srFg+srPg+srAg+srZg==4\n",
    "prob += cIg+cMg+cFg+cPg+cAg+cZg==4\n",
    "prob += ptIg+ptMg+ptFg+ptPg+ptAg+ptZg==8\n",
    "prob += sIg+sMg+sFg+sPg+sAg+sZg==2"
   ]
  },
  {
   "cell_type": "code",
   "execution_count": 4,
   "metadata": {},
   "outputs": [
    {
     "name": "stdout",
     "output_type": "stream",
     "text": [
      "Status =  Optimal\n",
      "cFg = 3.0\n",
      "cZg = 1.0\n",
      "pAg = 8.0\n",
      "ptAg = 2.0\n",
      "ptIg = 4.0\n",
      "ptZg = 2.0\n",
      "sZg = 2.0\n",
      "srPg = 4.0\n",
      "wMg = 4.0\n",
      "Koszty pracownika wyniesie 2910.0 zl‚  \n"
     ]
    }
   ],
   "source": [
    "prob.solve()#uruchomienie solvera\n",
    "print(\"Status = \",LpStatus[prob.status])#sprawdzenie czy rozwiązanie jest optymalne\n",
    "for v in prob.variables():#wyświetlenie kto w jaki dzień ma ile pracować\n",
    "    if (v.varValue!=0):\n",
    "        print(v.name, \"=\", v.varValue)\n",
    "print(\"Koszty pracownika wyniesie {} zl‚  \".format( value(prob.objective)))#wyświetlenie kosztów minimalnych tygodniowo"
   ]
  }
 ],
 "metadata": {
  "kernelspec": {
   "display_name": "Python 3",
   "language": "python",
   "name": "python3"
  },
  "language_info": {
   "codemirror_mode": {
    "name": "ipython",
    "version": 3
   },
   "file_extension": ".py",
   "mimetype": "text/x-python",
   "name": "python",
   "nbconvert_exporter": "python",
   "pygments_lexer": "ipython3",
   "version": "3.7.4"
  }
 },
 "nbformat": 4,
 "nbformat_minor": 2
}
