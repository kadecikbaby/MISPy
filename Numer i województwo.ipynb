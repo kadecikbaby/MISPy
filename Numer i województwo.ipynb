{
 "cells": [
  {
   "cell_type": "code",
   "execution_count": 1,
   "metadata": {},
   "outputs": [
    {
     "name": "stdout",
     "output_type": "stream",
     "text": [
      "cztery trzy cztery dwa szesc cztery trzy piec piec \n",
      "Inne\n"
     ]
    }
   ],
   "source": [
    "numer=434264355 #program po podaniu numeru liczbami wypisuje go słownie oraz podaje miasto z jakiego ktoś dzwoni \n",
    "\n",
    "class NumerTelefonu():#budowa klasy\n",
    "    def __init__(self, numer_telefonu):#funkcja wykonująca się automatycznie przypisująca wartości do zmiennych\n",
    "        self.numer = numer_telefonu    \n",
    "    @property\n",
    "    def miasto_k(self): #metoda sprawdzająca kierunkowy i wypisująca miasto\n",
    "        miasto = \"\"\n",
    "        tempNum = str(self.numer)\n",
    "        if (tempNum[0] == \"4\" and tempNum[1] == \"4\"):\n",
    "            miasto = \"Lodz\"       \n",
    "        elif (tempNum[0] == \"2\" and tempNum[1] == \"2\"):\n",
    "            miasto = \"Warszawa\"   \n",
    "        else: \n",
    "            miasto = \"Inne\"       \n",
    "        return miasto\n",
    "    \n",
    "    def __repr__(self):#metoda wypisująca cyfry słownie i umieszczająca go w zmiennej\n",
    "        cyfry_slownik = {\n",
    "            '1' : \"jeden\",\n",
    "            '2' : \"dwa\",\n",
    "            '3' : \"trzy\",\n",
    "            '4' : \"cztery\",\n",
    "            '5' : \"piec\",\n",
    "            '6' : \"szesc\",\n",
    "            '7' : \"siedem\",\n",
    "            '8' : \"osiem\",\n",
    "            '9' : \"dziewiec\",\n",
    "            '0' : \"zero\",\n",
    "        }\n",
    "        numer_słownie = \"\"\n",
    "        for x in str(self.numer):\n",
    "            numer_słownie += (cyfry_slownik[x] + \" \")\n",
    "        return numer_słownie\n",
    "    \n",
    "if len(str(numer)) != 9: #sprawdzenie czy numer ma odpowiednią ilość cyfr\n",
    "    print(\"Bledny numer\")\n",
    "else:\n",
    "    nr = NumerTelefonu(numer)# użycie klasy Numer telefonu\n",
    "    print(nr)#wyświetlenie numeru słownie\n",
    "    print(nr.miasto_k) #wyświetlenie miasta kierunkowego"
   ]
  },
  {
   "cell_type": "code",
   "execution_count": null,
   "metadata": {},
   "outputs": [],
   "source": []
  }
 ],
 "metadata": {
  "kernelspec": {
   "display_name": "Python 3",
   "language": "python",
   "name": "python3"
  },
  "language_info": {
   "codemirror_mode": {
    "name": "ipython",
    "version": 3
   },
   "file_extension": ".py",
   "mimetype": "text/x-python",
   "name": "python",
   "nbconvert_exporter": "python",
   "pygments_lexer": "ipython3",
   "version": "3.7.4"
  }
 },
 "nbformat": 4,
 "nbformat_minor": 2
}
