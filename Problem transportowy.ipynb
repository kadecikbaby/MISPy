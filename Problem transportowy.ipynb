{
 "cells": [
  {
   "cell_type": "code",
   "execution_count": 1,
   "metadata": {},
   "outputs": [],
   "source": [
    "from pulp import * #importowanie bibliotek"
   ]
  },
  {
   "cell_type": "code",
   "execution_count": 2,
   "metadata": {},
   "outputs": [
    {
     "name": "stdout",
     "output_type": "stream",
     "text": [
      "Status =  Optimal\n",
      "XK = 10.0\n",
      "XM = 5.0\n",
      "XP = 5.0\n",
      "YB = 19.0\n",
      "YM = 1.0\n",
      "Caly koszt = 138.0\n"
     ]
    }
   ],
   "source": [
    "prob = LpProblem(\"Problem dystrybucji piwa\",LpMinimize)#deklaracja problemu i kierunku optymalizacji\n",
    "\n",
    "#zmienne zwiazane z browarami i barami \n",
    "#browar X\n",
    "xb=LpVariable(\"XB\",0,20,LpInteger)\n",
    "xp=LpVariable(\"XP\",0,20,LpInteger)\n",
    "xk=LpVariable(\"XK\",0,20,LpInteger)\n",
    "xm=LpVariable(\"XM\",0,20,LpInteger)\n",
    "#browar y\n",
    "yb=LpVariable(\"YB\",0,20,LpInteger)\n",
    "yp=LpVariable(\"YP\",0,20,LpInteger)\n",
    "yk=LpVariable(\"YK\",0,20,LpInteger)\n",
    "ym=LpVariable(\"YM\",0,20,LpInteger)\n",
    "\n",
    "#zapotrzebowanie mniejsze niż możliwości produkcyjne\n",
    "prob+=15*xb+10*xp+5*xk+0*xm+2*yb+15*yp+20*yk+0*ym #funkcja celu\n",
    "#ograniczenia\n",
    "prob+=xb+yb==19\n",
    "prob+=xp+yp==5\n",
    "prob+=xk+yk==10\n",
    "prob+=xb+xp+xk+xm==20\n",
    "prob+=yb+yp+yk+ym==20\n",
    "\n",
    "prob.solve()#uruchomienie solvera rozwiązującego problem programowania liniowego\n",
    "print(\"Status = \",LpStatus[prob.status])#sprawdzenie czy rozwiązanie jest optymalne\n",
    "for v in prob.variables():\n",
    "    if v.varValue!=0:\n",
    "        print(v.name, \"=\", v.varValue) #wyświetlenie rozwiązania\n",
    "        \n",
    "print(\"Caly koszt =\",value(prob.objective))#wyświetlenie całkowitego kosztu transportu"
   ]
  },
  {
   "cell_type": "code",
   "execution_count": 4,
   "metadata": {
    "scrolled": false
   },
   "outputs": [
    {
     "name": "stdout",
     "output_type": "stream",
     "text": [
      "Status =  Optimal\n",
      "WP = 4.0\n",
      "XK = 10.0\n",
      "YB = 19.0\n",
      "YP = 1.0\n",
      "Caly koszt = 107.0\n"
     ]
    }
   ],
   "source": [
    "prob = LpProblem(\"Problem dystrybucji piwa\",LpMinimize)#deklaracja problemu i kierunku optymalizacji\n",
    "\n",
    "#zmienne zwiazane z browarami i barami \n",
    "#browar X\n",
    "xb=LpVariable(\"XB\",0,10,LpInteger)\n",
    "xp=LpVariable(\"XP\",0,10,LpInteger)\n",
    "xk=LpVariable(\"XK\",0,10,LpInteger)\n",
    "#browa Y\n",
    "yb=LpVariable(\"YB\",0,20,LpInteger)\n",
    "yp=LpVariable(\"YP\",0,20,LpInteger)\n",
    "yk=LpVariable(\"YK\",0,20,LpInteger)\n",
    "#dodatkowy browar W (zmienna sztuczna)\n",
    "wb=LpVariable(\"WB\",0,20,LpInteger)\n",
    "wp=LpVariable(\"WP\",0,20,LpInteger)\n",
    "wk=LpVariable(\"WK\",0,20,LpInteger)\n",
    "\n",
    "#zapotrzebowanie większe niż możliwości produkcyjne\n",
    "prob+=15*xb+10*xp+5*xk+2*yb+15*yp+20*yk+1*wb+1*wp+1*wk #funkcja celu\n",
    "#ograniczenia\n",
    "prob+=xb+yb+wb==19\n",
    "prob+=xp+yp+wp==5\n",
    "prob+=xk+yk+wk==10\n",
    "prob+=xb+xp+xk==10\n",
    "prob+=yb+yp+yk==20\n",
    "prob+=wb+wp+wk==(xb+yb+wb+xp+yp+wp+xk+yk+wk)-(xb+xp+xk+yb+yp+yk)\n",
    "\n",
    "prob.solve()#uruchomienie solvera rozwiązującego problem programowania liniowego\n",
    "print(\"Status = \",LpStatus[prob.status])#sprawdzenie czy rozwiązanie jest optymalne\n",
    "for v in prob.variables():\n",
    "    if v.varValue!=0:\n",
    "        print(v.name, \"=\", v.varValue) #wyświetlenie rozwiązania\n",
    "        \n",
    "print(\"Caly koszt =\",value(prob.objective))#wyświetlenie całkowitego kosztu transportu"
   ]
  },
  {
   "cell_type": "code",
   "execution_count": 5,
   "metadata": {},
   "outputs": [
    {
     "name": "stdout",
     "output_type": "stream",
     "text": [
      "Status =  Optimal\n",
      "XB = 19.0\n",
      "Caly koszt = 285.0\n"
     ]
    }
   ],
   "source": [
    "prob = LpProblem(\"Problem dystrybucji piwa\",LpMinimize)#deklaracja problemu i kierunku optymalizacji\n",
    "#zmienne zwiazane z browarami i barami wraz \n",
    "#browar X\n",
    "xb=LpVariable(\"XB\",0,19,LpInteger)\n",
    "#browar W dodatkowy (zmienna sztuczna)\n",
    "wb=LpVariable(\"WB\",0,50,LpInteger)\n",
    "\n",
    "#sprawdzenie czy zmienne sztuczne działają odpowiednio\n",
    "prob+=15*xb+1*wb #funkcja celu\n",
    "#ograniczenia\n",
    "prob+=xb+wb==19\n",
    "prob+=xb==19\n",
    "prob+=wb==(xb+wb)-(xb)\n",
    "\n",
    "prob.solve()#uruchomienie solvera rozwiązującego problem programowania liniowego\n",
    "print(\"Status = \",LpStatus[prob.status])#sprawdzenie czy rozwiązanie jest optymalne\n",
    "for v in prob.variables():\n",
    "    if v.varValue!=0:\n",
    "        print(v.name, \"=\", v.varValue) #wyświetlenie rozwiązania\n",
    "        \n",
    "print(\"Caly koszt =\",value(prob.objective))#wyświetlenie całkowitego kosztu transportu"
   ]
  },
  {
   "cell_type": "code",
   "execution_count": null,
   "metadata": {},
   "outputs": [],
   "source": []
  }
 ],
 "metadata": {
  "kernelspec": {
   "display_name": "Python 3",
   "language": "python",
   "name": "python3"
  },
  "language_info": {
   "codemirror_mode": {
    "name": "ipython",
    "version": 3
   },
   "file_extension": ".py",
   "mimetype": "text/x-python",
   "name": "python",
   "nbconvert_exporter": "python",
   "pygments_lexer": "ipython3",
   "version": "3.7.4"
  }
 },
 "nbformat": 4,
 "nbformat_minor": 2
}
